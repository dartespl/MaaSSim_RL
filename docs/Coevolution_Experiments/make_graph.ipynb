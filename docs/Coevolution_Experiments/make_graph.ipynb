{
 "cells": [
  {
   "cell_type": "code",
   "execution_count": 1,
   "id": "b40dbc71-b069-4aa8-881b-ec39d094043e",
   "metadata": {},
   "outputs": [],
   "source": [
    "import os, sys # add MaaSSim to path (not needed if MaaSSim is already in path)\n",
    "module_path = os.path.abspath(os.path.join('../..'))\n",
    "if module_path not in sys.path:\n",
    "    sys.path.append(module_path)\n",
    "import MaaSSim"
   ]
  },
  {
   "cell_type": "code",
   "execution_count": 2,
   "id": "1a1cee4a-80f2-4bff-bd1a-d97c75e77fe6",
   "metadata": {},
   "outputs": [],
   "source": [
    "#!pip install MaaSSim\n",
    "import MaaSSim.utils\n",
    "import logging\n",
    "from dotmap import DotMap\n",
    "import MaaSSim.simulators\n",
    "from MaaSSim.data_structures import structures as inData"
   ]
  },
  {
   "cell_type": "code",
   "execution_count": 3,
   "id": "3b567df2-e158-4268-9b22-5a1828372663",
   "metadata": {},
   "outputs": [],
   "source": [
    "import osmnx as ox\n",
    "import networkx as nx\n",
    "import random\n",
    "import pandas as pd\n",
    "import matplotlib.pyplot as plt          \n",
    "import numpy as np\n",
    "import seaborn as sns"
   ]
  },
  {
   "cell_type": "code",
   "execution_count": 4,
   "id": "b7b2213c-594a-4f76-b32c-b42a280fc2a4",
   "metadata": {},
   "outputs": [
    {
     "name": "stdout",
     "output_type": "stream",
     "text": [
      "Downloading network for Amsterdam, Netherlands witn osmnx\n",
      "Graph is saved to '...MaaSSim/data/graphs'\n"
     ]
    }
   ],
   "source": [
    "# change the city name and run\n",
    "\n",
    "params = MaaSSim.utils.get_config('glance.json') \n",
    "params.dist_threshold = 10000\n",
    "params.city = 'Amsterdam, Netherlands'\n",
    "MaaSSim.utils.make_config_paths(params, main=None, rel = False)\n",
    "inData = MaaSSim.utils.download_G(inData, params)\n",
    "MaaSSim.utils.save_G(inData, params)\n",
    "print(\"Graph is saved to '...MaaSSim/data/graphs'\")"
   ]
  },
  {
   "cell_type": "code",
   "execution_count": null,
   "id": "e181b0c0-671e-45a5-a474-a0155efc1755",
   "metadata": {},
   "outputs": [],
   "source": []
  }
 ],
 "metadata": {
  "kernelspec": {
   "display_name": "Python 3.11.0 ('ox')",
   "language": "python",
   "name": "python3"
  },
  "language_info": {
   "codemirror_mode": {
    "name": "ipython",
    "version": 3
   },
   "file_extension": ".py",
   "mimetype": "text/x-python",
   "name": "python",
   "nbconvert_exporter": "python",
   "pygments_lexer": "ipython3",
   "version": "3.11.0 | packaged by conda-forge | (main, Oct 25 2022, 06:12:32) [MSC v.1929 64 bit (AMD64)]"
  },
  "vscode": {
   "interpreter": {
    "hash": "080561097f046e3175c22d072459c287f17fd860ba8a95870cda4c6792667b4e"
   }
  }
 },
 "nbformat": 4,
 "nbformat_minor": 5
}
